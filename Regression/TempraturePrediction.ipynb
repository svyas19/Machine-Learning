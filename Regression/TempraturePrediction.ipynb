{
  "nbformat": 4,
  "nbformat_minor": 0,
  "metadata": {
    "colab": {
      "name": "TempraturePrediction.ipynb",
      "provenance": []
    },
    "kernelspec": {
      "name": "python3",
      "display_name": "Python 3"
    }
  },
  "cells": [
    {
      "cell_type": "markdown",
      "metadata": {
        "id": "YWUqzDdlHoWf"
      },
      "source": [
        "###Predcitng the temprature on a particuar day , by considering other parametrs. We are perfroming Elastic net Regression with Gradient Descent.</br>Cost function to mesaure the loss is plotted and also to get the idea of taking steps for tuning the hyper paramters. The idea of suitable and effecient learning rate can also be found from same graph."
      ]
    },
    {
      "cell_type": "code",
      "metadata": {
        "id": "pL1RAtZL5sfm"
      },
      "source": [
        "class ElasticGradientDescendent:\n",
        "\n",
        "  def __init__(self,gama = 0 , lasso = 0 , ridge = 0):\n",
        "    self.lasso = lasso\n",
        "    self.ridge = ridge\n",
        "    self.gama = gama\n",
        "    self.count = []\n",
        "    self.cost = []\n",
        "\n",
        "\n",
        "  def fit(self, X, y, x0, alpha, h, tolerance, maxIterations):\n",
        "        self.n = X.shape[0]\n",
        "        self.d = X.shape[1]\n",
        "        self.h = h\n",
        "        self.alpha = alpha\n",
        "        self.x0 = x0\n",
        "        self.data = np.hstack((np.ones([self.n, 1]), X))\n",
        "        \n",
        "       \n",
        "        self.outputs = y\n",
        "        \n",
        "       \n",
        "        X = self.data\n",
        "        L = lambda beta: ((X @ beta).T - y.T) @ (X @ beta - y) + self.lasso * np.linalg.norm(beta, ord=1) + self.ridge * np.linalg.norm(beta, ord=2)\n",
        "        self.beta = self.gradientDescendent(L, self.x0,  self.h, self.alpha, self.gama, tolerance, maxIterations)\n",
        "                \n",
        "       \n",
        "\n",
        "\n",
        "  def predict(self, X):\n",
        "\n",
        "        yPredicted = np.empty([X.shape[0],1])\n",
        "        \n",
        "     \n",
        "        X = np.hstack((np.ones([X.shape[0],1]), X))\n",
        "        \n",
        "\n",
        "        for row in range(X.shape[0]):\n",
        "            yPredicted[row] = self.beta @ X[row,]\n",
        "            \n",
        "        return yPredicted\n",
        "  def gradientDescendent(self, f, X0, h,  alpha, gama,  tolerance, maxIterations):\n",
        "  \n",
        "    x = X0\n",
        "    n = len(x)\n",
        "    vt = np.zeros(n)\n",
        "\n",
        "\n",
        "    for counter in range(maxIterations):\n",
        "\n",
        "              gradient = self.computeGradient(f, x, h)\n",
        "             \n",
        "            \n",
        "              if np.linalg.norm(gradient) < tolerance:\n",
        "                  print('Gradient descent took', counter, 'iterations to converge')\n",
        "                  print('The norm of the gradient is', np.linalg.norm(gradient))\n",
        "                \n",
        "                  return x\n",
        "\n",
        "            \n",
        "              elif counter == maxIterations-1:\n",
        "                  print(\"Gradient descent failed\")\n",
        "                  print('The gradient is', gradient)\n",
        "             \n",
        "                  return x\n",
        "            \n",
        "              vt = alpha*gradient + vt*gama\n",
        "              x -= vt\n",
        "              self.count.append(counter)\n",
        "              self.cost.append(f(x))\n",
        "\n",
        "  def computeGradient(self,f,x,h):\n",
        "        n = len(x)\n",
        "        gradient = np.zeros(n)\n",
        "\n",
        "        for counter in range(n):\n",
        "            xUp = x.copy()\n",
        "            xUp[counter] += h\n",
        "            gradient[counter] = (f(xUp) - f(x))/h\n",
        "\n",
        "        return gradient\n",
        "  # Ploting the loss function \n",
        "  def costPlot(self):\n",
        "     \n",
        "      plt.plot(self.count, self.cost)\n",
        "      plt.show()\n",
        "\n",
        "\n",
        "\n",
        "\n"
      ],
      "execution_count": null,
      "outputs": []
    },
    {
      "cell_type": "code",
      "metadata": {
        "id": "pd-tmAU1BI2f",
        "outputId": "2abc6fd2-099d-44f7-88d2-173095720108",
        "colab": {
          "base_uri": "https://localhost:8080/",
          "height": 306
        }
      },
      "source": [
        "import pandas as pd\n",
        "data = pd.read_csv(\"/content/drive/My Drive/weatherHistory.csv\", sep = \",\")\n",
        "data.head()"
      ],
      "execution_count": null,
      "outputs": [
        {
          "output_type": "execute_result",
          "data": {
            "text/html": [
              "<div>\n",
              "<style scoped>\n",
              "    .dataframe tbody tr th:only-of-type {\n",
              "        vertical-align: middle;\n",
              "    }\n",
              "\n",
              "    .dataframe tbody tr th {\n",
              "        vertical-align: top;\n",
              "    }\n",
              "\n",
              "    .dataframe thead th {\n",
              "        text-align: right;\n",
              "    }\n",
              "</style>\n",
              "<table border=\"1\" class=\"dataframe\">\n",
              "  <thead>\n",
              "    <tr style=\"text-align: right;\">\n",
              "      <th></th>\n",
              "      <th>Formatted Date</th>\n",
              "      <th>Summary</th>\n",
              "      <th>Precip Type</th>\n",
              "      <th>Temperature (C)</th>\n",
              "      <th>Apparent Temperature (C)</th>\n",
              "      <th>Humidity</th>\n",
              "      <th>Wind Speed (km/h)</th>\n",
              "      <th>Wind Bearing (degrees)</th>\n",
              "      <th>Visibility (km)</th>\n",
              "      <th>Loud Cover</th>\n",
              "      <th>Pressure (millibars)</th>\n",
              "      <th>Daily Summary</th>\n",
              "    </tr>\n",
              "  </thead>\n",
              "  <tbody>\n",
              "    <tr>\n",
              "      <th>0</th>\n",
              "      <td>2006-04-01 00:00:00.000 +0200</td>\n",
              "      <td>Partly Cloudy</td>\n",
              "      <td>rain</td>\n",
              "      <td>9.472222</td>\n",
              "      <td>7.388889</td>\n",
              "      <td>0.89</td>\n",
              "      <td>14.1197</td>\n",
              "      <td>251.0</td>\n",
              "      <td>15.8263</td>\n",
              "      <td>0.0</td>\n",
              "      <td>1015.13</td>\n",
              "      <td>Partly cloudy throughout the day.</td>\n",
              "    </tr>\n",
              "    <tr>\n",
              "      <th>1</th>\n",
              "      <td>2006-04-01 01:00:00.000 +0200</td>\n",
              "      <td>Partly Cloudy</td>\n",
              "      <td>rain</td>\n",
              "      <td>9.355556</td>\n",
              "      <td>7.227778</td>\n",
              "      <td>0.86</td>\n",
              "      <td>14.2646</td>\n",
              "      <td>259.0</td>\n",
              "      <td>15.8263</td>\n",
              "      <td>0.0</td>\n",
              "      <td>1015.63</td>\n",
              "      <td>Partly cloudy throughout the day.</td>\n",
              "    </tr>\n",
              "    <tr>\n",
              "      <th>2</th>\n",
              "      <td>2006-04-01 02:00:00.000 +0200</td>\n",
              "      <td>Mostly Cloudy</td>\n",
              "      <td>rain</td>\n",
              "      <td>9.377778</td>\n",
              "      <td>9.377778</td>\n",
              "      <td>0.89</td>\n",
              "      <td>3.9284</td>\n",
              "      <td>204.0</td>\n",
              "      <td>14.9569</td>\n",
              "      <td>0.0</td>\n",
              "      <td>1015.94</td>\n",
              "      <td>Partly cloudy throughout the day.</td>\n",
              "    </tr>\n",
              "    <tr>\n",
              "      <th>3</th>\n",
              "      <td>2006-04-01 03:00:00.000 +0200</td>\n",
              "      <td>Partly Cloudy</td>\n",
              "      <td>rain</td>\n",
              "      <td>8.288889</td>\n",
              "      <td>5.944444</td>\n",
              "      <td>0.83</td>\n",
              "      <td>14.1036</td>\n",
              "      <td>269.0</td>\n",
              "      <td>15.8263</td>\n",
              "      <td>0.0</td>\n",
              "      <td>1016.41</td>\n",
              "      <td>Partly cloudy throughout the day.</td>\n",
              "    </tr>\n",
              "    <tr>\n",
              "      <th>4</th>\n",
              "      <td>2006-04-01 04:00:00.000 +0200</td>\n",
              "      <td>Mostly Cloudy</td>\n",
              "      <td>rain</td>\n",
              "      <td>8.755556</td>\n",
              "      <td>6.977778</td>\n",
              "      <td>0.83</td>\n",
              "      <td>11.0446</td>\n",
              "      <td>259.0</td>\n",
              "      <td>15.8263</td>\n",
              "      <td>0.0</td>\n",
              "      <td>1016.51</td>\n",
              "      <td>Partly cloudy throughout the day.</td>\n",
              "    </tr>\n",
              "  </tbody>\n",
              "</table>\n",
              "</div>"
            ],
            "text/plain": [
              "                  Formatted Date  ...                      Daily Summary\n",
              "0  2006-04-01 00:00:00.000 +0200  ...  Partly cloudy throughout the day.\n",
              "1  2006-04-01 01:00:00.000 +0200  ...  Partly cloudy throughout the day.\n",
              "2  2006-04-01 02:00:00.000 +0200  ...  Partly cloudy throughout the day.\n",
              "3  2006-04-01 03:00:00.000 +0200  ...  Partly cloudy throughout the day.\n",
              "4  2006-04-01 04:00:00.000 +0200  ...  Partly cloudy throughout the day.\n",
              "\n",
              "[5 rows x 12 columns]"
            ]
          },
          "metadata": {
            "tags": []
          },
          "execution_count": 12
        }
      ]
    },
    {
      "cell_type": "code",
      "metadata": {
        "id": "56oMF0CxVAN1",
        "outputId": "1407141d-f2c5-48ca-abd2-10a18b165b58",
        "colab": {
          "base_uri": "https://localhost:8080/",
          "height": 85
        }
      },
      "source": [
        "\n",
        "import pandas as pd\n",
        "\n",
        "data = pd.read_csv(\"/content/drive/My Drive/weatherHistory.csv\", sep = \",\")\n",
        "\n",
        "\n",
        "#Factorizing the data in unique classes\n",
        "data['Precip_New'] = data['Precip Type'].eq('rain').mul(1)\n",
        "data['Summary_New']=data['Summary'].replace(data['Summary'].unique(),range(0,len(data['Summary'].unique())))\n",
        "\n",
        "\n",
        "#Dropping the unwanted features\n",
        "#Formatted date - I think we dont need date as we have different paramters, including humidity and pressure(this two pararameters are different in each season)\n",
        "#Summary & Precip Type is already changed\n",
        "#Remaining are obvious to remove\n",
        "drop_features = ['Formatted Date', 'Summary', 'Precip Type', 'Visibility (km)', 'Loud Cover', 'Daily Summary']\n",
        "data.drop(drop_features, axis=1, inplace=True)\n",
        "\n",
        "#Removing values with Null/NaN\n",
        "data = data.dropna(axis=0)\n",
        "\n",
        "\n",
        "data_mean = data.mean()\n",
        "data_std = data.std()\n",
        "data_max = data.max()\n",
        "data_min = data.min()\n",
        "\n",
        "# Min-Max Normalization\n",
        "data = (data-data_mean)/(data_std)\n",
        "\n",
        "\n",
        "print(data.columns)\n",
        "\n",
        "# Conversion to numpy \n",
        "data = data.to_numpy()\n",
        "\n"
      ],
      "execution_count": null,
      "outputs": [
        {
          "output_type": "stream",
          "text": [
            "Index(['Temperature (C)', 'Apparent Temperature (C)', 'Humidity',\n",
            "       'Wind Speed (km/h)', 'Wind Bearing (degrees)', 'Pressure (millibars)',\n",
            "       'Precip_New', 'Summary_New'],\n",
            "      dtype='object')\n"
          ],
          "name": "stdout"
        }
      ]
    },
    {
      "cell_type": "code",
      "metadata": {
        "id": "NXOizNqz6Tqa",
        "outputId": "0a694d4f-047a-4935-e420-c8326899f450",
        "colab": {
          "base_uri": "https://localhost:8080/",
          "height": 1000
        }
      },
      "source": [
        "\n",
        "#Input in X and Output in Y\n",
        "X = np.array(data[:,1:], dtype=float)\n",
        "Y = np.array(data[:,0], dtype=float)\n",
        "\n",
        "\n",
        "\n",
        "\n",
        "\n",
        "#Bifurcating the data into 60% - Training , 20% - Testing and 20% - Validation\n",
        "(trainX, valX, trainY, valY) = train_test_split(X, Y, test_size=0.40, random_state=1)\n",
        "(valX, testX, valY, testY) = train_test_split(valX, valY, test_size=0.50, random_state=1)\n",
        "\n",
        "\n",
        "\n",
        "H = [0.01,0.001,0.0001,0.00001,0.000001,0.0000001,0.00000001]\n",
        "for value in H:\n",
        "  print(\"Alpha : \", value)\n",
        "  model = ElasticGradientDescendent( gama=0.9, lasso = 10 , ridge=2 )\n",
        "  initial_value = (np.random.uniform(size=trainX.shape[1]+1))\n",
        "  \n",
        "  #fitting the data in the model , for training the model\n",
        "  model.fit(trainX, trainY, initial_value, alpha = value, h = 0.001, tolerance = 0.0001, maxIterations = 100000)\n",
        "  model.costPlot()\n",
        "  \n",
        "  predictions = model.predict(trainX)\n",
        "\n",
        "  parameters = model.beta\n",
        "\n",
        "\n",
        "  #printing the data for analysis\n",
        "  print('The r**2 score is', r2_score(trainY, predictions))\n",
        "  print('The mean squared error is', mean_squared_error(trainY, predictions))\n",
        "  print('The mean absolute error is', mean_absolute_error(trainY, predictions),'\\n')"
      ],
      "execution_count": null,
      "outputs": [
        {
          "output_type": "stream",
          "text": [
            "Alpha :  0.01\n",
            "Gradient descent took 5 iterations to converge\n",
            "The norm of the gradient is 0.0\n"
          ],
          "name": "stdout"
        },
        {
          "output_type": "display_data",
          "data": {
            "image/png": "[encoded data removed]",
            "text/plain": [
              "<Figure size 432x288 with 1 Axes>"
            ]
          },
          "metadata": {
            "tags": [],
            "needs_background": "light"
          }
        },
        {
          "output_type": "stream",
          "text": [
            "The r**2 score is -2.440865672359509e+32\n",
            "The mean squared error is 2.434521296277115e+32\n",
            "The mean absolute error is 1.2060648388537764e+16 \n",
            "\n",
            "Alpha :  0.001\n",
            "Gradient descent took 6 iterations to converge\n",
            "The norm of the gradient is 0.0\n"
          ],
          "name": "stdout"
        },
        {
          "output_type": "display_data",
          "data": {
            "image/png": "[encoded data removed]",
            "text/plain": [
              "<Figure size 432x288 with 1 Axes>"
            ]
          },
          "metadata": {
            "tags": [],
            "needs_background": "light"
          }
        },
        {
          "output_type": "stream",
          "text": [
            "The r**2 score is -1.76222010323886e+28\n",
            "The mean squared error is 1.7576396844138885e+28\n",
            "The mean absolute error is 103062510933960.56 \n",
            "\n",
            "Alpha :  0.0001\n",
            "Gradient descent took 11 iterations to converge\n",
            "The norm of the gradient is 0.0\n"
          ],
          "name": "stdout"
        },
        {
          "output_type": "display_data",
          "data": {
            "image/png": "[encoded data removed]",
            "text/plain": [
              "<Figure size 432x288 with 1 Axes>"
            ]
          },
          "metadata": {
            "tags": [],
            "needs_background": "light"
          }
        },
        {
          "output_type": "stream",
          "text": [
            "The r**2 score is -1.8195524257477727e+29\n",
            "The mean squared error is 1.814822986917402e+29\n",
            "The mean absolute error is 272751630685415.03 \n",
            "\n",
            "Alpha :  1e-05\n",
            "Gradient descent took 406 iterations to converge\n",
            "The norm of the gradient is 7.506580303458367e-05\n"
          ],
          "name": "stdout"
        },
        {
          "output_type": "display_data",
          "data": {
            "image/png": "[encoded data removed]",
            "text/plain": [
              "<Figure size 432x288 with 1 Axes>"
            ]
          },
          "metadata": {
            "tags": [],
            "needs_background": "light"
          }
        },
        {
          "output_type": "stream",
          "text": [
            "The r**2 score is 0.9901023286837182\n",
            "The mean squared error is 0.009871944972599188\n",
            "The mean absolute error is 0.07775167067660456 \n",
            "\n",
            "Alpha :  1e-06\n",
            "Gradient descent took 388 iterations to converge\n",
            "The norm of the gradient is 8.655279996176921e-05\n"
          ],
          "name": "stdout"
        },
        {
          "output_type": "display_data",
          "data": {
            "image/png": "[encoded data removed]",
            "text/plain": [
              "<Figure size 432x288 with 1 Axes>"
            ]
          },
          "metadata": {
            "tags": [],
            "needs_background": "light"
          }
        },
        {
          "output_type": "stream",
          "text": [
            "The r**2 score is 0.9901023286814019\n",
            "The mean squared error is 0.009871944974909327\n",
            "The mean absolute error is 0.07775167073503914 \n",
            "\n",
            "Alpha :  1e-07\n",
            "Gradient descent took 408 iterations to converge\n",
            "The norm of the gradient is 9.109393939412437e-05\n"
          ],
          "name": "stdout"
        },
        {
          "output_type": "display_data",
          "data": {
            "image/png": "[encoded data removed]",
            "text/plain": [
              "<Figure size 432x288 with 1 Axes>"
            ]
          },
          "metadata": {
            "tags": [],
            "needs_background": "light"
          }
        },
        {
          "output_type": "stream",
          "text": [
            "The r**2 score is 0.9901023286819826\n",
            "The mean squared error is 0.009871944974330232\n",
            "The mean absolute error is 0.07775167076130671 \n",
            "\n",
            "Alpha :  1e-08\n",
            "Gradient descent took 6253 iterations to converge\n",
            "The norm of the gradient is 9.993068719567581e-05\n"
          ],
          "name": "stdout"
        },
        {
          "output_type": "display_data",
          "data": {
            "image/png": "[encoded data removed]",
            "text/plain": [
              "<Figure size 432x288 with 1 Axes>"
            ]
          },
          "metadata": {
            "tags": [],
            "needs_background": "light"
          }
        },
        {
          "output_type": "stream",
          "text": [
            "The r**2 score is 0.9901023286782317\n",
            "The mean squared error is 0.009871944978071359\n",
            "The mean absolute error is 0.07775167074668114 \n",
            "\n"
          ],
          "name": "stdout"
        }
      ]
    },
    {
      "cell_type": "code",
      "metadata": {
        "id": "cV0vP1sO7FsQ",
        "outputId": "8dc73a3b-c653-48d9-b95a-166fb71a8aba",
        "colab": {
          "base_uri": "https://localhost:8080/",
          "height": 119
        }
      },
      "source": [
        "#Using the values found in the above analysis , tuning the hyper parameters and fitting the data with trainig set\n",
        "\n",
        "model = ElasticGradientDescendent( gama=0.9, lasso = 10 , ridge = 2)\n",
        "initial_value = (np.random.uniform(size=trainX.shape[1]+1))\n",
        "\n",
        "#Training the data with training data\n",
        "model.fit(trainX, trainY, initial_value, alpha = 0.000001, h = 0.001, tolerance = 0.01, maxIterations = 100000)\n",
        "\n",
        "predictions = model.predict(valX)\n",
        "\n",
        "parameters = model.beta\n",
        "\n",
        "#Testing the data with validation data\n",
        "print('The r**2 score is', r2_score(valY, predictions))\n",
        "print('The mean squared error is', mean_squared_error(valY, predictions))\n",
        "print('The mean absolute error is', mean_absolute_error(valY, predictions),'\\n')"
      ],
      "execution_count": null,
      "outputs": [
        {
          "output_type": "stream",
          "text": [
            "Gradient descent took 567 iterations to converge\n",
            "The norm of the gradient is 0.009986975423293349\n",
            "The r**2 score is 0.9004476108610484\n",
            "The mean squared error is 0.09916717198739565\n",
            "The mean absolute error is 0.22885585744739334 \n",
            "\n"
          ],
          "name": "stdout"
        }
      ]
    },
    {
      "cell_type": "code",
      "metadata": {
        "id": "T8W_VmB8gXAL",
        "outputId": "de9c7933-c4a7-48fb-94e7-cfacaab275e5",
        "colab": {
          "base_uri": "https://localhost:8080/",
          "height": 119
        }
      },
      "source": [
        "#Perfroming cross-validation with the cross validation data\n",
        "\n",
        "model = ElasticGradientDescendent( gama=0.9, lasso = 10 , ridge = 2)\n",
        "initial_value = (np.random.uniform(size=trainX.shape[1]+1))\n",
        "\n",
        "\n",
        "testX = normalize(testX)\n",
        "trainX = normalize(trainX)\n",
        "model.fit(trainX, trainY, initial_value, alpha = 0.000001, h = 0.001, tolerance = 0.01, maxIterations = 100000)\n",
        "\n",
        "\n",
        "predictions = model.predict(testX)\n",
        "\n",
        "parameters = model.beta\n",
        "\n",
        "print('The r**2 score is', r2_score(testY, predictions))\n",
        "print('The mean squared error is', mean_squared_error(testY, predictions))\n",
        "print('The mean absolute error is', mean_absolute_error(testY, predictions),'\\n')"
      ],
      "execution_count": null,
      "outputs": [
        {
          "output_type": "stream",
          "text": [
            "Gradient descent took 607 iterations to converge\n",
            "The norm of the gradient is 0.009875009756185677\n",
            "The r**2 score is 0.8991970362903318\n",
            "The mean squared error is 0.10196906155582079\n",
            "The mean absolute error is 0.23093457619200208 \n",
            "\n"
          ],
          "name": "stdout"
        }
      ]
    }
  ]
}
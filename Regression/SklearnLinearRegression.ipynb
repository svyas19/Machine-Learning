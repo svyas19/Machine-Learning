{
  "nbformat": 4,
  "nbformat_minor": 0,
  "metadata": {
    "colab": {
      "name": "SklearnLinearRegression.ipynb",
      "provenance": [],
      "mount_file_id": "1u9j4jeeMkYmNxSGhFgI1MtfD3uYjpFbz",
      "authorship_tag": "ABX9TyOrmeRZzfnYqs4zIBPmxSbO"
    },
    "kernelspec": {
      "name": "python3",
      "display_name": "Python 3"
    }
  },
  "cells": [
    {
      "cell_type": "code",
      "metadata": {
        "id": "p3eorvTbbc7s",
        "outputId": "4ffb9348-747c-4cea-aa1a-e52c5ba76557",
        "colab": {
          "base_uri": "https://localhost:8080/",
          "height": 218
        }
      },
      "source": [
        "import pandas as pd\n",
        "\n",
        "\n",
        "data = pd.read_csv(\"/content/drive/My Drive/3D Printer.csv\")\n",
        "\n",
        "data.head()\n"
      ],
      "execution_count": null,
      "outputs": [
        {
          "output_type": "execute_result",
          "data": {
            "text/html": [
              "<div>\n",
              "<style scoped>\n",
              "    .dataframe tbody tr th:only-of-type {\n",
              "        vertical-align: middle;\n",
              "    }\n",
              "\n",
              "    .dataframe tbody tr th {\n",
              "        vertical-align: top;\n",
              "    }\n",
              "\n",
              "    .dataframe thead th {\n",
              "        text-align: right;\n",
              "    }\n",
              "</style>\n",
              "<table border=\"1\" class=\"dataframe\">\n",
              "  <thead>\n",
              "    <tr style=\"text-align: right;\">\n",
              "      <th></th>\n",
              "      <th>layer_height</th>\n",
              "      <th>wall_thickness</th>\n",
              "      <th>infill_density</th>\n",
              "      <th>infill_pattern</th>\n",
              "      <th>nozzle_temperature</th>\n",
              "      <th>bed_temperature</th>\n",
              "      <th>print_speed</th>\n",
              "      <th>material</th>\n",
              "      <th>fan_speed</th>\n",
              "      <th>roughness</th>\n",
              "      <th>tension_strenght</th>\n",
              "      <th>elongation</th>\n",
              "    </tr>\n",
              "  </thead>\n",
              "  <tbody>\n",
              "    <tr>\n",
              "      <th>0</th>\n",
              "      <td>0.02</td>\n",
              "      <td>8</td>\n",
              "      <td>90</td>\n",
              "      <td>grid</td>\n",
              "      <td>220</td>\n",
              "      <td>60</td>\n",
              "      <td>40</td>\n",
              "      <td>abs</td>\n",
              "      <td>0</td>\n",
              "      <td>25</td>\n",
              "      <td>18</td>\n",
              "      <td>1.2</td>\n",
              "    </tr>\n",
              "    <tr>\n",
              "      <th>1</th>\n",
              "      <td>0.02</td>\n",
              "      <td>7</td>\n",
              "      <td>90</td>\n",
              "      <td>honeycomb</td>\n",
              "      <td>225</td>\n",
              "      <td>65</td>\n",
              "      <td>40</td>\n",
              "      <td>abs</td>\n",
              "      <td>25</td>\n",
              "      <td>32</td>\n",
              "      <td>16</td>\n",
              "      <td>1.4</td>\n",
              "    </tr>\n",
              "    <tr>\n",
              "      <th>2</th>\n",
              "      <td>0.02</td>\n",
              "      <td>1</td>\n",
              "      <td>80</td>\n",
              "      <td>grid</td>\n",
              "      <td>230</td>\n",
              "      <td>70</td>\n",
              "      <td>40</td>\n",
              "      <td>abs</td>\n",
              "      <td>50</td>\n",
              "      <td>40</td>\n",
              "      <td>8</td>\n",
              "      <td>0.8</td>\n",
              "    </tr>\n",
              "    <tr>\n",
              "      <th>3</th>\n",
              "      <td>0.02</td>\n",
              "      <td>4</td>\n",
              "      <td>70</td>\n",
              "      <td>honeycomb</td>\n",
              "      <td>240</td>\n",
              "      <td>75</td>\n",
              "      <td>40</td>\n",
              "      <td>abs</td>\n",
              "      <td>75</td>\n",
              "      <td>68</td>\n",
              "      <td>10</td>\n",
              "      <td>0.5</td>\n",
              "    </tr>\n",
              "    <tr>\n",
              "      <th>4</th>\n",
              "      <td>0.02</td>\n",
              "      <td>6</td>\n",
              "      <td>90</td>\n",
              "      <td>grid</td>\n",
              "      <td>250</td>\n",
              "      <td>80</td>\n",
              "      <td>40</td>\n",
              "      <td>abs</td>\n",
              "      <td>100</td>\n",
              "      <td>92</td>\n",
              "      <td>5</td>\n",
              "      <td>0.7</td>\n",
              "    </tr>\n",
              "  </tbody>\n",
              "</table>\n",
              "</div>"
            ],
            "text/plain": [
              "   layer_height  wall_thickness  ...  tension_strenght elongation\n",
              "0          0.02               8  ...                18        1.2\n",
              "1          0.02               7  ...                16        1.4\n",
              "2          0.02               1  ...                 8        0.8\n",
              "3          0.02               4  ...                10        0.5\n",
              "4          0.02               6  ...                 5        0.7\n",
              "\n",
              "[5 rows x 12 columns]"
            ]
          },
          "metadata": {
            "tags": []
          },
          "execution_count": 16
        }
      ]
    },
    {
      "cell_type": "code",
      "metadata": {
        "id": "YTGFiI2pcwZA",
        "outputId": "fcf72dc7-b4a1-4acb-e44c-27d92e699ca0",
        "colab": {
          "base_uri": "https://localhost:8080/",
          "height": 345
        }
      },
      "source": [
        "data.info()"
      ],
      "execution_count": null,
      "outputs": [
        {
          "output_type": "stream",
          "text": [
            "<class 'pandas.core.frame.DataFrame'>\n",
            "RangeIndex: 50 entries, 0 to 49\n",
            "Data columns (total 12 columns):\n",
            " #   Column              Non-Null Count  Dtype  \n",
            "---  ------              --------------  -----  \n",
            " 0   layer_height        50 non-null     float64\n",
            " 1   wall_thickness      50 non-null     int64  \n",
            " 2   infill_density      50 non-null     int64  \n",
            " 3   infill_pattern      50 non-null     object \n",
            " 4   nozzle_temperature  50 non-null     int64  \n",
            " 5   bed_temperature     50 non-null     int64  \n",
            " 6   print_speed         50 non-null     int64  \n",
            " 7   material            50 non-null     object \n",
            " 8   fan_speed           50 non-null     int64  \n",
            " 9   roughness           50 non-null     int64  \n",
            " 10  tension_strenght    50 non-null     int64  \n",
            " 11  elongation          50 non-null     float64\n",
            "dtypes: float64(2), int64(8), object(2)\n",
            "memory usage: 4.8+ KB\n"
          ],
          "name": "stdout"
        }
      ]
    },
    {
      "cell_type": "code",
      "metadata": {
        "id": "P5hXN6s-c2pd",
        "outputId": "66b0f5da-5b9c-426e-a9e3-364e6411918a",
        "colab": {
          "base_uri": "https://localhost:8080/",
          "height": 218
        }
      },
      "source": [
        "data.infill_pattern = [0 if each ==\"grid\" else 1 for each in data.infill_pattern]\n",
        "data.material = [0 if each ==\"abs\" else 1 for each in data.material]\n",
        "data.head()"
      ],
      "execution_count": null,
      "outputs": [
        {
          "output_type": "execute_result",
          "data": {
            "text/html": [
              "<div>\n",
              "<style scoped>\n",
              "    .dataframe tbody tr th:only-of-type {\n",
              "        vertical-align: middle;\n",
              "    }\n",
              "\n",
              "    .dataframe tbody tr th {\n",
              "        vertical-align: top;\n",
              "    }\n",
              "\n",
              "    .dataframe thead th {\n",
              "        text-align: right;\n",
              "    }\n",
              "</style>\n",
              "<table border=\"1\" class=\"dataframe\">\n",
              "  <thead>\n",
              "    <tr style=\"text-align: right;\">\n",
              "      <th></th>\n",
              "      <th>layer_height</th>\n",
              "      <th>wall_thickness</th>\n",
              "      <th>infill_density</th>\n",
              "      <th>infill_pattern</th>\n",
              "      <th>nozzle_temperature</th>\n",
              "      <th>bed_temperature</th>\n",
              "      <th>print_speed</th>\n",
              "      <th>material</th>\n",
              "      <th>fan_speed</th>\n",
              "      <th>roughness</th>\n",
              "      <th>tension_strenght</th>\n",
              "      <th>elongation</th>\n",
              "    </tr>\n",
              "  </thead>\n",
              "  <tbody>\n",
              "    <tr>\n",
              "      <th>0</th>\n",
              "      <td>0.02</td>\n",
              "      <td>8</td>\n",
              "      <td>90</td>\n",
              "      <td>0</td>\n",
              "      <td>220</td>\n",
              "      <td>60</td>\n",
              "      <td>40</td>\n",
              "      <td>0</td>\n",
              "      <td>0</td>\n",
              "      <td>25</td>\n",
              "      <td>18</td>\n",
              "      <td>1.2</td>\n",
              "    </tr>\n",
              "    <tr>\n",
              "      <th>1</th>\n",
              "      <td>0.02</td>\n",
              "      <td>7</td>\n",
              "      <td>90</td>\n",
              "      <td>1</td>\n",
              "      <td>225</td>\n",
              "      <td>65</td>\n",
              "      <td>40</td>\n",
              "      <td>0</td>\n",
              "      <td>25</td>\n",
              "      <td>32</td>\n",
              "      <td>16</td>\n",
              "      <td>1.4</td>\n",
              "    </tr>\n",
              "    <tr>\n",
              "      <th>2</th>\n",
              "      <td>0.02</td>\n",
              "      <td>1</td>\n",
              "      <td>80</td>\n",
              "      <td>0</td>\n",
              "      <td>230</td>\n",
              "      <td>70</td>\n",
              "      <td>40</td>\n",
              "      <td>0</td>\n",
              "      <td>50</td>\n",
              "      <td>40</td>\n",
              "      <td>8</td>\n",
              "      <td>0.8</td>\n",
              "    </tr>\n",
              "    <tr>\n",
              "      <th>3</th>\n",
              "      <td>0.02</td>\n",
              "      <td>4</td>\n",
              "      <td>70</td>\n",
              "      <td>1</td>\n",
              "      <td>240</td>\n",
              "      <td>75</td>\n",
              "      <td>40</td>\n",
              "      <td>0</td>\n",
              "      <td>75</td>\n",
              "      <td>68</td>\n",
              "      <td>10</td>\n",
              "      <td>0.5</td>\n",
              "    </tr>\n",
              "    <tr>\n",
              "      <th>4</th>\n",
              "      <td>0.02</td>\n",
              "      <td>6</td>\n",
              "      <td>90</td>\n",
              "      <td>0</td>\n",
              "      <td>250</td>\n",
              "      <td>80</td>\n",
              "      <td>40</td>\n",
              "      <td>0</td>\n",
              "      <td>100</td>\n",
              "      <td>92</td>\n",
              "      <td>5</td>\n",
              "      <td>0.7</td>\n",
              "    </tr>\n",
              "  </tbody>\n",
              "</table>\n",
              "</div>"
            ],
            "text/plain": [
              "   layer_height  wall_thickness  ...  tension_strenght  elongation\n",
              "0          0.02               8  ...                18         1.2\n",
              "1          0.02               7  ...                16         1.4\n",
              "2          0.02               1  ...                 8         0.8\n",
              "3          0.02               4  ...                10         0.5\n",
              "4          0.02               6  ...                 5         0.7\n",
              "\n",
              "[5 rows x 12 columns]"
            ]
          },
          "metadata": {
            "tags": []
          },
          "execution_count": 18
        }
      ]
    },
    {
      "cell_type": "code",
      "metadata": {
        "id": "D2S8nwU-dvDB",
        "outputId": "9fa3c426-6adc-4591-d0a7-3b6b6158e07b",
        "colab": {
          "base_uri": "https://localhost:8080/",
          "height": 345
        }
      },
      "source": [
        "data.info()"
      ],
      "execution_count": null,
      "outputs": [
        {
          "output_type": "stream",
          "text": [
            "<class 'pandas.core.frame.DataFrame'>\n",
            "RangeIndex: 50 entries, 0 to 49\n",
            "Data columns (total 12 columns):\n",
            " #   Column              Non-Null Count  Dtype  \n",
            "---  ------              --------------  -----  \n",
            " 0   layer_height        50 non-null     float64\n",
            " 1   wall_thickness      50 non-null     int64  \n",
            " 2   infill_density      50 non-null     int64  \n",
            " 3   infill_pattern      50 non-null     int64  \n",
            " 4   nozzle_temperature  50 non-null     int64  \n",
            " 5   bed_temperature     50 non-null     int64  \n",
            " 6   print_speed         50 non-null     int64  \n",
            " 7   material            50 non-null     int64  \n",
            " 8   fan_speed           50 non-null     int64  \n",
            " 9   roughness           50 non-null     int64  \n",
            " 10  tension_strenght    50 non-null     int64  \n",
            " 11  elongation          50 non-null     float64\n",
            "dtypes: float64(2), int64(10)\n",
            "memory usage: 4.8 KB\n"
          ],
          "name": "stdout"
        }
      ]
    },
    {
      "cell_type": "code",
      "metadata": {
        "id": "uoIVDF6edzUt"
      },
      "source": [
        "#converting the fractions into percentages\n",
        "data.layer_height = data.layer_height * 100\n",
        "data.elongation = data.elongation * 100 "
      ],
      "execution_count": null,
      "outputs": []
    },
    {
      "cell_type": "code",
      "metadata": {
        "id": "zYhR57VJd9i_",
        "outputId": "2ee40e94-84e8-4e31-9142-484e74008d9b",
        "colab": {
          "base_uri": "https://localhost:8080/",
          "height": 345
        }
      },
      "source": [
        "data.info()"
      ],
      "execution_count": null,
      "outputs": [
        {
          "output_type": "stream",
          "text": [
            "<class 'pandas.core.frame.DataFrame'>\n",
            "RangeIndex: 50 entries, 0 to 49\n",
            "Data columns (total 12 columns):\n",
            " #   Column              Non-Null Count  Dtype  \n",
            "---  ------              --------------  -----  \n",
            " 0   layer_height        50 non-null     float64\n",
            " 1   wall_thickness      50 non-null     int64  \n",
            " 2   infill_density      50 non-null     int64  \n",
            " 3   infill_pattern      50 non-null     int64  \n",
            " 4   nozzle_temperature  50 non-null     int64  \n",
            " 5   bed_temperature     50 non-null     int64  \n",
            " 6   print_speed         50 non-null     int64  \n",
            " 7   material            50 non-null     int64  \n",
            " 8   fan_speed           50 non-null     int64  \n",
            " 9   roughness           50 non-null     int64  \n",
            " 10  tension_strenght    50 non-null     int64  \n",
            " 11  elongation          50 non-null     float64\n",
            "dtypes: float64(2), int64(10)\n",
            "memory usage: 4.8 KB\n"
          ],
          "name": "stdout"
        }
      ]
    },
    {
      "cell_type": "code",
      "metadata": {
        "id": "xn2EqJZFd-_A",
        "outputId": "3512d74f-d276-4893-c288-b63e9eff5dbc",
        "colab": {
          "base_uri": "https://localhost:8080/",
          "height": 218
        }
      },
      "source": [
        "data.head()"
      ],
      "execution_count": null,
      "outputs": [
        {
          "output_type": "execute_result",
          "data": {
            "text/html": [
              "<div>\n",
              "<style scoped>\n",
              "    .dataframe tbody tr th:only-of-type {\n",
              "        vertical-align: middle;\n",
              "    }\n",
              "\n",
              "    .dataframe tbody tr th {\n",
              "        vertical-align: top;\n",
              "    }\n",
              "\n",
              "    .dataframe thead th {\n",
              "        text-align: right;\n",
              "    }\n",
              "</style>\n",
              "<table border=\"1\" class=\"dataframe\">\n",
              "  <thead>\n",
              "    <tr style=\"text-align: right;\">\n",
              "      <th></th>\n",
              "      <th>layer_height</th>\n",
              "      <th>wall_thickness</th>\n",
              "      <th>infill_density</th>\n",
              "      <th>infill_pattern</th>\n",
              "      <th>nozzle_temperature</th>\n",
              "      <th>bed_temperature</th>\n",
              "      <th>print_speed</th>\n",
              "      <th>material</th>\n",
              "      <th>fan_speed</th>\n",
              "      <th>roughness</th>\n",
              "      <th>tension_strenght</th>\n",
              "      <th>elongation</th>\n",
              "    </tr>\n",
              "  </thead>\n",
              "  <tbody>\n",
              "    <tr>\n",
              "      <th>0</th>\n",
              "      <td>2.0</td>\n",
              "      <td>8</td>\n",
              "      <td>90</td>\n",
              "      <td>0</td>\n",
              "      <td>220</td>\n",
              "      <td>60</td>\n",
              "      <td>40</td>\n",
              "      <td>0</td>\n",
              "      <td>0</td>\n",
              "      <td>25</td>\n",
              "      <td>18</td>\n",
              "      <td>120.0</td>\n",
              "    </tr>\n",
              "    <tr>\n",
              "      <th>1</th>\n",
              "      <td>2.0</td>\n",
              "      <td>7</td>\n",
              "      <td>90</td>\n",
              "      <td>1</td>\n",
              "      <td>225</td>\n",
              "      <td>65</td>\n",
              "      <td>40</td>\n",
              "      <td>0</td>\n",
              "      <td>25</td>\n",
              "      <td>32</td>\n",
              "      <td>16</td>\n",
              "      <td>140.0</td>\n",
              "    </tr>\n",
              "    <tr>\n",
              "      <th>2</th>\n",
              "      <td>2.0</td>\n",
              "      <td>1</td>\n",
              "      <td>80</td>\n",
              "      <td>0</td>\n",
              "      <td>230</td>\n",
              "      <td>70</td>\n",
              "      <td>40</td>\n",
              "      <td>0</td>\n",
              "      <td>50</td>\n",
              "      <td>40</td>\n",
              "      <td>8</td>\n",
              "      <td>80.0</td>\n",
              "    </tr>\n",
              "    <tr>\n",
              "      <th>3</th>\n",
              "      <td>2.0</td>\n",
              "      <td>4</td>\n",
              "      <td>70</td>\n",
              "      <td>1</td>\n",
              "      <td>240</td>\n",
              "      <td>75</td>\n",
              "      <td>40</td>\n",
              "      <td>0</td>\n",
              "      <td>75</td>\n",
              "      <td>68</td>\n",
              "      <td>10</td>\n",
              "      <td>50.0</td>\n",
              "    </tr>\n",
              "    <tr>\n",
              "      <th>4</th>\n",
              "      <td>2.0</td>\n",
              "      <td>6</td>\n",
              "      <td>90</td>\n",
              "      <td>0</td>\n",
              "      <td>250</td>\n",
              "      <td>80</td>\n",
              "      <td>40</td>\n",
              "      <td>0</td>\n",
              "      <td>100</td>\n",
              "      <td>92</td>\n",
              "      <td>5</td>\n",
              "      <td>70.0</td>\n",
              "    </tr>\n",
              "  </tbody>\n",
              "</table>\n",
              "</div>"
            ],
            "text/plain": [
              "   layer_height  wall_thickness  ...  tension_strenght  elongation\n",
              "0           2.0               8  ...                18       120.0\n",
              "1           2.0               7  ...                16       140.0\n",
              "2           2.0               1  ...                 8        80.0\n",
              "3           2.0               4  ...                10        50.0\n",
              "4           2.0               6  ...                 5        70.0\n",
              "\n",
              "[5 rows x 12 columns]"
            ]
          },
          "metadata": {
            "tags": []
          },
          "execution_count": 22
        }
      ]
    },
    {
      "cell_type": "markdown",
      "metadata": {
        "id": "KlcgB6v4foij"
      },
      "source": [
        "#Material Detection"
      ]
    },
    {
      "cell_type": "code",
      "metadata": {
        "id": "Jb_YqneveAT3"
      },
      "source": [
        "x = data.drop([\"material\"], axis = 1) #remove materials column from dataset\n",
        "y = data.material.values #giving y all the values of materials"
      ],
      "execution_count": null,
      "outputs": []
    },
    {
      "cell_type": "code",
      "metadata": {
        "id": "c10HjtONeKmo"
      },
      "source": [
        "#normalization and feature scaling\n",
        "x_norm = (x-x.mean())/(x.std()) \n",
        "#x_norm = (x - avg_val_of_each_column) / (std_dev_of_each_column)"
      ],
      "execution_count": null,
      "outputs": []
    },
    {
      "cell_type": "code",
      "metadata": {
        "id": "8ypt7YLFeSO4"
      },
      "source": [
        "#Spliting data into three: train, cross validate, test\n",
        "from sklearn.model_selection import train_test_split\n",
        "\n",
        "x_train, x_test, y_train, y_test = train_test_split(x_norm, y, test_size=0.2, random_state=1) \n",
        "    # 20% data -> x_test\n",
        "\n",
        "x_train, x_val, y_train, y_val = train_test_split(x_train, y_train, test_size=0.25, random_state=1) \n",
        "# 0.25 x 0.8 = 0.2 -> 20% -> x_val\n",
        "\n",
        "# x_train -> 60%, x_val -> 20%, x_test -> 20%"
      ],
      "execution_count": null,
      "outputs": []
    },
    {
      "cell_type": "code",
      "metadata": {
        "id": "FK0lxvNtejHA",
        "outputId": "83e26666-4c19-4aaf-c67d-6eca131b411b",
        "colab": {
          "base_uri": "https://localhost:8080/",
          "height": 35
        }
      },
      "source": [
        "#Linear Regression\n",
        "from sklearn.linear_model import LinearRegression\n",
        "\n",
        "logreg = LinearRegression().fit(x_train, y_train)\n",
        "\n",
        "#checking how much does model created using x_train fits the respective y_train values\n",
        "#not that significant\n",
        "logreg.score(x_train, y_train)"
      ],
      "execution_count": null,
      "outputs": [
        {
          "output_type": "execute_result",
          "data": {
            "text/plain": [
              "0.9847554084743745"
            ]
          },
          "metadata": {
            "tags": []
          },
          "execution_count": 13
        }
      ]
    },
    {
      "cell_type": "code",
      "metadata": {
        "id": "5x98Jo93enBs",
        "outputId": "4c4ea5f4-795e-4999-a5a5-65a3933d98fb",
        "colab": {
          "base_uri": "https://localhost:8080/",
          "height": 35
        }
      },
      "source": [
        "#predicted value of y using values of x_val\n",
        "y_pred = logreg.predict(x_val)\n",
        "\n",
        "#comparing the y_pred with the real labels\n",
        "#y_pred is created automatically by .score() using x_val\n",
        "\n",
        "logreg.score(x_val, y_val)"
      ],
      "execution_count": null,
      "outputs": [
        {
          "output_type": "execute_result",
          "data": {
            "text/plain": [
              "0.9360610567308713"
            ]
          },
          "metadata": {
            "tags": []
          },
          "execution_count": 14
        }
      ]
    },
    {
      "cell_type": "code",
      "metadata": {
        "id": "PApRl4mde6TO",
        "outputId": "feeff802-b5b7-483c-cf45-b941e3ca584c",
        "colab": {
          "base_uri": "https://localhost:8080/",
          "height": 35
        }
      },
      "source": [
        "test_logreg = LinearRegression().fit(x_test, y_test)\n",
        "logreg.score(x_test, y_test)"
      ],
      "execution_count": null,
      "outputs": [
        {
          "output_type": "execute_result",
          "data": {
            "text/plain": [
              "0.9439576262399312"
            ]
          },
          "metadata": {
            "tags": []
          },
          "execution_count": 15
        }
      ]
    },
    {
      "cell_type": "markdown",
      "metadata": {
        "id": "vlqYNCIpfw7k"
      },
      "source": [
        "#Temprature Prediction"
      ]
    },
    {
      "cell_type": "code",
      "metadata": {
        "id": "ThjueCSufA2d"
      },
      "source": [
        "x = data.drop([\"nozzle_temperature\"], axis = 1) #remove materials column from dataset\n",
        "y = data.material.values #giving y all the values of materials"
      ],
      "execution_count": null,
      "outputs": []
    },
    {
      "cell_type": "code",
      "metadata": {
        "id": "T6ejONCQgMAC"
      },
      "source": [
        ""
      ],
      "execution_count": null,
      "outputs": []
    },
    {
      "cell_type": "code",
      "metadata": {
        "id": "5fG4eSAGgPXk"
      },
      "source": [
        "#normalization and feature scaling\n",
        "x_norm = (x-x.mean())/(x.std()) \n",
        "#x_norm = (x - avg_val_of_each_column) / (std_dev_of_each_column)"
      ],
      "execution_count": null,
      "outputs": []
    },
    {
      "cell_type": "code",
      "metadata": {
        "id": "iD4AK8JpgSSF"
      },
      "source": [
        "#Spliting data into three: train, cross validate, test\n",
        "from sklearn.model_selection import train_test_split\n",
        "\n",
        "x_train, x_test, y_train, y_test = train_test_split(x_norm, y, test_size=0.2, random_state=1) \n",
        "    # 20% data -> x_test\n",
        "\n",
        "x_train, x_val, y_train, y_val = train_test_split(x_train, y_train, test_size=0.25, random_state=1) \n",
        "# 0.25 x 0.8 = 0.2 -> 20% -> x_val\n",
        "\n",
        "# x_train -> 60%, x_val -> 20%, x_test -> 20%"
      ],
      "execution_count": null,
      "outputs": []
    },
    {
      "cell_type": "code",
      "metadata": {
        "id": "gDmsPO-JgSsG"
      },
      "source": [
        ""
      ],
      "execution_count": null,
      "outputs": []
    },
    {
      "cell_type": "code",
      "metadata": {
        "id": "c9W8aLeegZl_",
        "outputId": "340e80a4-7492-404e-aebc-7d9ecfd9a119",
        "colab": {
          "base_uri": "https://localhost:8080/",
          "height": 35
        }
      },
      "source": [
        "#predicted value of y using values of x_val\n",
        "y_pred = logreg.predict(x_val)\n",
        "\n",
        "#comparing the y_pred with the real labels\n",
        "#y_pred is created automatically by .score() using x_val\n",
        "\n",
        "logreg.score(x_val, y_val)"
      ],
      "execution_count": null,
      "outputs": [
        {
          "output_type": "execute_result",
          "data": {
            "text/plain": [
              "-1.6037533724548974"
            ]
          },
          "metadata": {
            "tags": []
          },
          "execution_count": 29
        }
      ]
    },
    {
      "cell_type": "code",
      "metadata": {
        "id": "CE0PzOfVgZth",
        "outputId": "b86ebc11-056b-4e46-e5fe-fcb6b042cb44",
        "colab": {
          "base_uri": "https://localhost:8080/",
          "height": 933
        }
      },
      "source": [
        "print(data)"
      ],
      "execution_count": null,
      "outputs": [
        {
          "output_type": "stream",
          "text": [
            "    layer_height  wall_thickness  ...  tension_strenght  elongation\n",
            "0            2.0               8  ...                18       120.0\n",
            "1            2.0               7  ...                16       140.0\n",
            "2            2.0               1  ...                 8        80.0\n",
            "3            2.0               4  ...                10        50.0\n",
            "4            2.0               6  ...                 5        70.0\n",
            "5            2.0              10  ...                24       110.0\n",
            "6            2.0               5  ...                12       130.0\n",
            "7            2.0              10  ...                14       150.0\n",
            "8            2.0               9  ...                27       140.0\n",
            "9            2.0               8  ...                25       170.0\n",
            "10           6.0               6  ...                37       240.0\n",
            "11           6.0               2  ...                12       140.0\n",
            "12           6.0              10  ...                16       130.0\n",
            "13           6.0               6  ...                 9        80.0\n",
            "14           6.0               3  ...                10       100.0\n",
            "15           6.0              10  ...                27       220.0\n",
            "16           6.0               3  ...                23       190.0\n",
            "17           6.0               8  ...                26       160.0\n",
            "18           6.0               5  ...                33       210.0\n",
            "19           6.0              10  ...                29       200.0\n",
            "20          10.0               1  ...                16       120.0\n",
            "21          10.0               2  ...                12       110.0\n",
            "22          10.0               1  ...                10        90.0\n",
            "23          10.0               9  ...                19        80.0\n",
            "24          10.0               2  ...                 8        40.0\n",
            "25          10.0               1  ...                11       160.0\n",
            "26          10.0               4  ...                12       120.0\n",
            "27          10.0               3  ...                18       180.0\n",
            "28          10.0               4  ...                34       290.0\n",
            "29          10.0               1  ...                14       150.0\n",
            "30          15.0               4  ...                27       240.0\n",
            "31          15.0               7  ...                19       180.0\n",
            "32          15.0               6  ...                18       140.0\n",
            "33          15.0               1  ...                 9        60.0\n",
            "34          15.0               7  ...                13        70.0\n",
            "35          15.0               3  ...                33       280.0\n",
            "36          15.0               4  ...                24       180.0\n",
            "37          15.0              10  ...                26       210.0\n",
            "38          15.0               6  ...                22       230.0\n",
            "39          15.0               1  ...                 4        70.0\n",
            "40          20.0               4  ...                35       330.0\n",
            "41          20.0               9  ...                34       310.0\n",
            "42          20.0               7  ...                28       220.0\n",
            "43          20.0               6  ...                28       160.0\n",
            "44          20.0               3  ...                21       110.0\n",
            "45          20.0               5  ...                28       270.0\n",
            "46          20.0               4  ...                14       180.0\n",
            "47          20.0               5  ...                30       320.0\n",
            "48          20.0               7  ...                29       320.0\n",
            "49          20.0               3  ...                27       310.0\n",
            "\n",
            "[50 rows x 12 columns]\n"
          ],
          "name": "stdout"
        }
      ]
    },
    {
      "cell_type": "code",
      "metadata": {
        "id": "u9v35Oa_gkgn"
      },
      "source": [
        ""
      ],
      "execution_count": null,
      "outputs": []
    }
  ]
}
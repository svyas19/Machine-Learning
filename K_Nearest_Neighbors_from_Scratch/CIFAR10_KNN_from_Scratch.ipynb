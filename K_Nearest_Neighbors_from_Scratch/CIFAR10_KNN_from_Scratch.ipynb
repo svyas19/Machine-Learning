{
  "nbformat": 4,
  "nbformat_minor": 0,
  "metadata": {
    "colab": {
      "name": "CIFAR10_KNN_from_Scratch.ipynb",
      "provenance": []
    },
    "kernelspec": {
      "name": "python3",
      "display_name": "Python 3"
    }
  },
  "cells": [
    {
      "cell_type": "markdown",
      "metadata": {
        "id": "gkEGrRbIv3fr"
      },
      "source": [
        "###We will divide the dataset in 60-20-20%, in training, validation & testing. Initially , we will train the model with 60% dataset and test it with 20% data. After this we will tune the hgyperparameters and use the model the on the remainig 20% data, which our model has never seen. (Cross - Validation)"
      ]
    },
    {
      "cell_type": "code",
      "metadata": {
        "id": "dSz_b9is84y2"
      },
      "source": [
        "#importing the required modules\n",
        "import numpy as np\n",
        "import matplotlib as plt\n",
        "from scipy.stats import mode\n",
        "from sklearn.model_selection import train_test_split\n",
        "from sklearn.metrics import classification_report\n",
        "from sklearn.metrics import accuracy_score\n",
        "import matplotlib.pyplot as plt\n",
        "from sklearn.neighbors import KNeighborsClassifier\n",
        "from math import sqrt"
      ],
      "execution_count": 1,
      "outputs": []
    },
    {
      "cell_type": "code",
      "metadata": {
        "id": "G-ki_sn088P5"
      },
      "source": [
        "class KnnClassifier:\n",
        "    \n",
        "    def __init__(self, k = 5, p = 2):\n",
        "        # initialize the number of neighbors to use\n",
        "        self.neighbors = k\n",
        "        self.pnorm = p\n",
        "        \n",
        "    \n",
        "\n",
        "\n",
        "    def fit(self,X,Y):\n",
        "        \n",
        "        self.classes = np.unique(Y)\n",
        "        #if (self.classes) < 2:\n",
        "          #  print(\"Less number of classes\")\n",
        "        \n",
        "        self.data = X\n",
        "        self.labels = Y \n",
        "        \n",
        "        \n",
        "        \n",
        "    \n",
        "    \n",
        "    def predict(self,X):\n",
        "        \n",
        "        yPredicted = np.empty([X.shape[0],1])\n",
        "        \n",
        "        for row in range(X.shape[0]):\n",
        "            datapoint = X[row,]\n",
        "            \n",
        "            \n",
        "            if self.pnorm!= np.inf:\n",
        "              # find the distances from the datapoint to each training point using the Lp norm\n",
        "              distances = (np.sum(((self.data - datapoint) ** self.pnorm), axis=1))\n",
        "              distances = np.sign(distances)*(np.abs(distances)) ** (1 / float(self.pnorm))\n",
        "            else:\n",
        "              # Scenario for pnorm equal to infinity\n",
        "              distances = np.amax(np.abs(self.data - datapoint))\n",
        "            indices = np.argsort(distances)[:self.neighbors]\n",
        "            nearestClasses = self.labels[indices]\n",
        "            yPredicted[row] = int(mode(nearestClasses)[0][0])\n",
        "        \n",
        "        return yPredicted"
      ],
      "execution_count": null,
      "outputs": []
    },
    {
      "cell_type": "code",
      "metadata": {
        "id": "KzIyLQki8_hd",
        "outputId": "fc3b7f86-9538-4285-85b3-cae78a027fcf",
        "colab": {
          "base_uri": "https://localhost:8080/",
          "height": 816
        }
      },
      "source": [
        "from sklearn.preprocessing import normalize\n",
        "from tensorflow.keras.datasets import cifar10 \n",
        "\n",
        "#loading the CIFAR10 Dataset\n",
        "cifarData = cifar10.load_data()\n",
        "#Reshaping the CIFAR10 Dataset\n",
        "X = cifarData[0][0][:10000].reshape(10000,32*32*3)\n",
        "print(X.shape)\n",
        "\n",
        "Y = cifarData[0][1][:10000]\n",
        "print(Y.shape)\n",
        "\n",
        "\n",
        "\n",
        "(trainX, testX, trainY, testY) = train_test_split(X, Y, test_size = 0.40, random_state = 1)\n",
        "(testX,valX,testY,valY) = train_test_split(testX, testY, test_size = 0.50, random_state = 1)\n",
        "\n",
        "\n",
        "#print(sqrt(len(testX)))\n",
        "bestAccuracy = [0, 0]\n",
        "\n",
        "\n",
        "#trying for different values of K & P ti tune it\n",
        "\n",
        "for pk in range (1,4):\n",
        "  if (pk==3):\n",
        "    pk = np.inf\n",
        "  for neighbors1 in range(14,21):\n",
        "    model = KnnClassifier(k = neighbors1 , p = pk )\n",
        "    \n",
        "    #normalize the data for better accuracy\n",
        "    trainX = normalize(trainX)\n",
        "    valX = normalize(valX)\n",
        "    model.fit(trainX,trainY)\n",
        "  #print('accuracy: ', model.score(X_test, y_test))\n",
        "    model.fit(trainX,trainY)\n",
        "    print(\"K: \" + str(neighbors1) + \" , P:\" + str(pk)) \n",
        "    accuracy = accuracy_score(valY, model.predict(valX))\n",
        "    print(neighbors1, accuracy)\n",
        "    \n",
        "if accuracy > bestAccuracy[1]:\n",
        "  bestAccuracy = [neighbors1, accuracy]\n",
        "        \n",
        "# print the accuracy\n",
        "print(bestAccuracy)\n",
        "\n",
        "#Below is printed accuracy with different values of K and P, to tune the model."
      ],
      "execution_count": null,
      "outputs": [
        {
          "output_type": "stream",
          "text": [
            "Downloading data from https://www.cs.toronto.edu/~kriz/cifar-10-python.tar.gz\n",
            "170500096/170498071 [==============================] - 2s 0us/step\n",
            "(10000, 3072)\n",
            "(10000, 1)\n",
            "K: 14 , P:1\n",
            "14 0.1025\n",
            "K: 15 , P:1\n",
            "15 0.1025\n",
            "K: 16 , P:1\n",
            "16 0.1025\n",
            "K: 17 , P:1\n",
            "17 0.1025\n",
            "K: 18 , P:1\n",
            "18 0.1025\n",
            "K: 19 , P:1\n",
            "19 0.1025\n",
            "K: 20 , P:1\n",
            "20 0.1025\n",
            "K: 14 , P:2\n",
            "14 0.2785\n",
            "K: 15 , P:2\n",
            "15 0.2795\n",
            "K: 16 , P:2\n",
            "16 0.277\n",
            "K: 17 , P:2\n",
            "17 0.2745\n",
            "K: 18 , P:2\n",
            "18 0.279\n",
            "K: 19 , P:2\n",
            "19 0.28\n",
            "K: 20 , P:2\n",
            "20 0.2765\n",
            "K: 14 , P:inf\n",
            "14 0.107\n",
            "K: 15 , P:inf\n",
            "15 0.107\n",
            "K: 16 , P:inf\n",
            "16 0.107\n",
            "K: 17 , P:inf\n",
            "17 0.107\n",
            "K: 18 , P:inf\n",
            "18 0.107\n",
            "K: 19 , P:inf\n",
            "19 0.107\n",
            "K: 20 , P:inf\n",
            "20 0.107\n",
            "[20, 0.107]\n"
          ],
          "name": "stdout"
        }
      ]
    },
    {
      "cell_type": "code",
      "metadata": {
        "id": "fZNjtywl9Dyi",
        "outputId": "acc14438-5a12-46c9-f93c-3b5de6705232",
        "colab": {
          "base_uri": "https://localhost:8080/",
          "height": 663
        }
      },
      "source": [
        "#Using the best k & P values from above information\n",
        "model = KnnClassifier(k=15,p=2)\n",
        "model.fit(trainX,trainY)\n",
        "testX = normalize(testX)\n",
        "#printing the accuracy\n",
        "accuracy = accuracy_score(valY, model.predict(valX))\n",
        "print(\"Testing details :\")\n",
        "print(\"Testing Accuracy : \" + str(accuracy))\n",
        "print(classification_report(valY, model.predict(valX)))\n",
        "accuracy = accuracy_score(testY, model.predict(testX))\n",
        "#printing the cross-validation accuracy by using the 20% of data which model has never seen\n",
        "print(\"Cross-Validation details:\")\n",
        "print(\"Accuracy by Cross Validation : \" + str(accuracy))\n",
        "print(classification_report(testY, model.predict(testX)))"
      ],
      "execution_count": null,
      "outputs": [
        {
          "output_type": "stream",
          "text": [
            "Testing details\n",
            "Testing Accuracy : 0.2795\n",
            "              precision    recall  f1-score   support\n",
            "\n",
            "           0       0.25      0.56      0.35       182\n",
            "           1       0.59      0.09      0.15       214\n",
            "           2       0.19      0.39      0.26       205\n",
            "           3       0.22      0.15      0.18       221\n",
            "           4       0.25      0.27      0.26       202\n",
            "           5       0.33      0.23      0.27       182\n",
            "           6       0.30      0.14      0.19       205\n",
            "           7       0.64      0.17      0.27       216\n",
            "           8       0.31      0.70      0.43       195\n",
            "           9       0.50      0.14      0.22       178\n",
            "\n",
            "    accuracy                           0.28      2000\n",
            "   macro avg       0.36      0.28      0.26      2000\n",
            "weighted avg       0.36      0.28      0.26      2000\n",
            "\n",
            "Cross-Validation details\n",
            "Accuracy by Cross Validation : 0.311\n",
            "              precision    recall  f1-score   support\n",
            "\n",
            "           0       0.29      0.59      0.39       217\n",
            "           1       0.71      0.11      0.18       207\n",
            "           2       0.23      0.47      0.31       203\n",
            "           3       0.34      0.25      0.29       202\n",
            "           4       0.23      0.25      0.24       208\n",
            "           5       0.33      0.21      0.26       186\n",
            "           6       0.33      0.18      0.23       188\n",
            "           7       0.62      0.19      0.29       192\n",
            "           8       0.32      0.63      0.42       209\n",
            "           9       0.59      0.17      0.26       188\n",
            "\n",
            "    accuracy                           0.31      2000\n",
            "   macro avg       0.40      0.31      0.29      2000\n",
            "weighted avg       0.40      0.31      0.29      2000\n",
            "\n"
          ],
          "name": "stdout"
        }
      ]
    }
  ]
}